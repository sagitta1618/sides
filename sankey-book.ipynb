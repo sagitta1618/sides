{
 "cells": [
  {
   "cell_type": "markdown",
   "id": "036070b8-bd1c-435c-b47c-6df348850b81",
   "metadata": {},
   "source": [
    "# Sankey graph of large format to pocket books according to editors\n",
    "\n",
    "Upload a new xlsx file with a \"node1\", \"node2\" and eventually \"weight\" header to create a new Sankey graph."
   ]
  },
  {
   "cell_type": "code",
   "execution_count": 36,
   "id": "7cdf1e54-2688-4695-b0f4-9fda2d2d5894",
   "metadata": {},
   "outputs": [],
   "source": [
    "import ipywidgets as widgets\n",
    "import pandas as pd\n",
    "import matplotlib.pyplot as plt\n",
    "import numpy as np\n",
    "#from pysankey import sankey\n",
    "import plotly.graph_objects as go"
   ]
  },
  {
   "cell_type": "code",
   "execution_count": 37,
   "id": "9971acc7-8786-493c-ab7b-82955a82c089",
   "metadata": {},
   "outputs": [],
   "source": [
    "def plotSankey(fname='data/livre-poche.xlsx'):\n",
    "    df = pd.read_excel(fname)\n",
    "    node1 = df['node1'].unique()\n",
    "    node2 = df['node2'].unique()\n",
    "    node2source = dict(zip(node1, np.arange(len(node1))))\n",
    "    node2target = dict(zip(node2, np.arange(len(node1), len(node1) + len(node2))))\n",
    "    source = [node2source[a] for a in df['node1']]\n",
    "    target = [node2target[a] for a in df['node2']]\n",
    "    label = list(node2source.keys()) + list(node2target.keys())\n",
    "    link = dict(source=source, target=target, value=df['weight'].tolist())\n",
    "    data = go.Sankey(link=link, node={'label': label})\n",
    "    fig = go.Figure(data)\n",
    "    fig.show()"
   ]
  },
  {
   "cell_type": "code",
   "execution_count": 39,
   "id": "3abc6161-a080-4c67-a8b5-a9e9d515abd9",
   "metadata": {},
   "outputs": [
    {
     "data": {
      "application/vnd.jupyter.widget-view+json": {
       "model_id": "4535cc496c46483cbe7cfb9ce1a64b52",
       "version_major": 2,
       "version_minor": 0
      },
      "text/plain": [
       "VBox(children=(FileUpload(value={}, description='Upload'), Output()))"
      ]
     },
     "metadata": {},
     "output_type": "display_data"
    }
   ],
   "source": [
    "def btnFunc(_):\n",
    "    out.clear_output()\n",
    "    with out:\n",
    "        plotSankey(btn.data[0])\n",
    "    btn.value.clear()\n",
    "\n",
    "btn = widgets.FileUpload()\n",
    "btn.observe(btnFunc, names='value')\n",
    "out = widgets.Output()\n",
    "with out:\n",
    "    plotSankey()\n",
    "widgets.VBox([btn, out])"
   ]
  },
  {
   "cell_type": "code",
   "execution_count": null,
   "id": "ee98cb15-f35f-4b8d-b843-915cabc565e9",
   "metadata": {},
   "outputs": [],
   "source": []
  }
 ],
 "metadata": {
  "kernelspec": {
   "display_name": "Python 3 (ipykernel)",
   "language": "python",
   "name": "python3"
  },
  "language_info": {
   "codemirror_mode": {
    "name": "ipython",
    "version": 3
   },
   "file_extension": ".py",
   "mimetype": "text/x-python",
   "name": "python",
   "nbconvert_exporter": "python",
   "pygments_lexer": "ipython3",
   "version": "3.9.2"
  }
 },
 "nbformat": 4,
 "nbformat_minor": 5
}
